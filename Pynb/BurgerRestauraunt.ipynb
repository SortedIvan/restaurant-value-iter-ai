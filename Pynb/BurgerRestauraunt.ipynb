{
  "cells": [
    {
      "cell_type": "markdown",
      "metadata": {},
      "source": [
        "<h3> Training an AI agent to traverse an environment and collect materials in order using value iteration <h3>\n",
        "<h5> By Ivan Ovcharov & Veronika Valeva <h5>"
      ]
    },
    {
      "cell_type": "markdown",
      "metadata": {},
      "source": [
        "### Table of Contents\n",
        "\n",
        "* Introduction\n",
        "* Why value iteration?\n",
        "* Environment description\n",
        "* Python environment\n"
      ]
    },
    {
      "cell_type": "markdown",
      "metadata": {},
      "source": [
        "### Introduction"
      ]
    },
    {
      "cell_type": "markdown",
      "metadata": {},
      "source": [
        "Over the period of 9 weeks, we have been tasked to train an agent to learn over given constraints in a python environment. The project we chose to tackle is something that closely resembles the infamous <strong> frozen lake </strong> environment. With every environment, there are different ways of approaching how an agent's rules may be defined or what strategy may be used for it to <strong> \"learn\" </strong>.\n"
      ]
    },
    {
      "cell_type": "markdown",
      "metadata": {},
      "source": [
        "After delving a bit deeper into what <strong> reinforcement learning </strong> really is, we made the decision that <strong> <i> Value Iteration </i> </strong> would be best suited for our environment and the given conditions/rules we have defined. But why?"
      ]
    },
    {
      "cell_type": "markdown",
      "metadata": {},
      "source": [
        "### Why value iteration?"
      ]
    },
    {
      "cell_type": "markdown",
      "metadata": {},
      "source": [
        "For any given state, we first calculate the state-action values for all the possible <strong>actions</strong> from that given state. We then update the value function of that state with the greatest state-action value. The reason we decided not to utilize <i>policy iteration</i> instead, as we thought unnecessary to have calculations of the expected/mean state-action value. For an environment like ours, where no \"predictions\" must be made, value iteration was the best option at hand."
      ]
    },
    {
      "cell_type": "markdown",
      "metadata": {},
      "source": [
        "With value iteration, we'd be able to terminate when the difference between all the new state values and the old state values is a relatively small value. Furthermore, for a grid-like environment, where all of the possible actions and <strong>\"reward\"</strong> positions are pre-defined, we'd be better off with iterating over all possible states."
      ]
    },
    {
      "cell_type": "markdown",
      "metadata": {},
      "source": [
        " ![Value iteration algorithm](images/value_iteration.png)"
      ]
    },
    {
      "cell_type": "markdown",
      "metadata": {},
      "source": [
        "### Environment description"
      ]
    },
    {
      "cell_type": "markdown",
      "metadata": {},
      "source": [
        "We start with defining what an <strong>environment</strong> really stands for. An environment in AI is what is surrounding the agent. The agent can take input from the environment and deliver output."
      ]
    },
    {
      "cell_type": "markdown",
      "metadata": {},
      "source": [
        "As mentioned previously, the environment we have chosen to define is something that very closely resembles the <strong> frozen lake </strong> one by OpenGymAI. The rules are as follows:\n",
        "* The environment is a grid (initially a 5x5 but scaled down to a 2x2/2x3) where there are \"ingredients\" that the agent must collect.\n",
        "* The agent is only able to move up, down, left or right, depending on his position on the grid.\n",
        "* The agent may not go (for example) left, if left is outside of the grid bounds\n",
        "* The agent starts in a <i> starting state </i> and finishes in an <i> ending state</i>"
      ]
    },
    {
      "cell_type": "markdown",
      "metadata": {},
      "source": [
        "Once the agent collects all of the ingredients (must be done in the correct order, otherwise => agent restarts), the agent must \"leave\" by going to the end state. "
      ]
    },
    {
      "cell_type": "markdown",
      "metadata": {},
      "source": [
        "The reward system that is utilized is based on getting items in correct order and finishing the game. There are also slight penalties: when agent steps on an empty cell, he loses a total of 0.2 points and when he steps on a cell, containing an ingredient => +1 points. The reason behind this is that the agent can not only learn how to collect the ingredients in the right order, but the -0.2 points serves as a bound that \"pushes\" the agent to finish the game in less moves."
      ]
    },
    {
      "cell_type": "markdown",
      "metadata": {},
      "source": [
        " ![Value iteration algorithm](images/env.png)"
      ]
    },
    {
      "cell_type": "markdown",
      "metadata": {},
      "source": [
        "### Python environment\n"
      ]
    },
    {
      "cell_type": "markdown",
      "metadata": {},
      "source": [
        "We first start by defnining what kind of states there will be in our environment. In here, we define the empty state, E. Furthermore, we have one representing our imaginary lettuce and cheese, L and C respectively. Lastly, a state indicating the start and end."
      ]
    },
    {
      "cell_type": "code",
      "execution_count": 38,
      "metadata": {},
      "outputs": [],
      "source": [
        "from enum import Enum\n",
        "import random\n",
        "from random import randint, choice\n",
        "from copy import copy\n",
        "\n",
        "E, L, C, START, END = ' ', 'L', 'C','START','END'"
      ]
    },
    {
      "cell_type": "markdown",
      "metadata": {},
      "source": [
        "## Action space\n",
        "We start by defining the action space for our world. The action space will look as follows:\n",
        "\n",
        "Actions:\n",
        "*  Up\n",
        "*  Down\n",
        "*  Left\n",
        "*  Right\n",
        "\n",
        "Actions `Up`, `Down`, `Left`, and `Right` all move the actor to a new position. "
      ]
    },
    {
      "cell_type": "code",
      "execution_count": 39,
      "metadata": {},
      "outputs": [],
      "source": [
        "class Action(Enum):\n",
        "    Up = 1\n",
        "    Down = 2\n",
        "    Left = 3\n",
        "    Right = 4\n",
        "\n",
        "    def __str__(self):\n",
        "        return self.name"
      ]
    },
    {
      "cell_type": "markdown",
      "metadata": {},
      "source": [
        "We then define the rule set of our environment. This is done within a python class that holds all of the methods needed."
      ]
    },
    {
      "cell_type": "code",
      "execution_count": 40,
      "metadata": {},
      "outputs": [],
      "source": [
        "class RestaurantEnvironment():\n",
        "    def __init__(self, initial_state=None):\n",
        "        if initial_state is None:\n",
        "            self.__initial_state = [E for n in range(6)]\n",
        "            self.__initial_state[0] = START\n",
        "            self.__initial_state[2] = C \n",
        "            self.__initial_state[4] = L\n",
        "            self.__initial_state[5] = END\n",
        "            self.playerState = [0, \"\"]\n",
        "            self.reward = 0\n",
        "        else:\n",
        "            self.__initial_state = copy(initial_state)\n",
        "            self.__state = self.__initial_state\n",
        "\n",
        "\n",
        "    def reset(self):\n",
        "        self.__state = self.__initial_state\n",
        "        return self.__state\n",
        "\n",
        "    # Based on playerposition (0 to 6), add a letter to the currentWord\n",
        "    def calculate_curr_word(self, playerPosition):\n",
        "        if playerPosition == 2 and self.playerState[1] == \"\":\n",
        "            return \"C\"\n",
        "        elif playerPosition == 4 and self.playerState[1] == \"C\":\n",
        "            return \"L\"\n",
        "        else:\n",
        "            return \"\"\n",
        "\n",
        "    def step(self, playerPosition):\n",
        "        if (self.calculate_curr_word(self.calculate_transition(playerPosition))) != \"\":\n",
        "            self.playerState[1] += self.calculate_curr_word(self.calculate_transition(playerPosition))\n",
        "            self.reward += 1\n",
        "        else:\n",
        "            self.reward -= 0.1\n",
        "        newPlayerPosition = self.calculate_transition(playerPosition)\n",
        "        self.playerState[0] = newPlayerPosition\n",
        "        observation = self.__state  # environment is fully observable\n",
        "        done = self.get_killed_or_live()\n",
        "        if done:\n",
        "            self.reset()\n",
        "        return observation, done, self.reward, self.playerState[1]\n",
        "\n",
        "    def render(self):\n",
        "        BACKGROUND = [\n",
        "            ' S │   │ C │',\n",
        "            '───┼───┼───┼',\n",
        "            '   │ L │ E │',\n",
        "            '───┼───┼───┼',\n",
        "        ]\n",
        "        rendering = copy(BACKGROUND)\n",
        "        for n, S_n in enumerate(self.__state):\n",
        "            if S_n != E:\n",
        "                row = 2 * (n // 5)\n",
        "                col = 4 * (n % 5) + 1\n",
        "                line = rendering[row]\n",
        "                rendering[row] = line[:col] + S_n + line[col + 1:]\n",
        "\n",
        "        for line in rendering:\n",
        "            print(line)\n",
        "\n",
        "    # =========================================================\n",
        "    # public functions for agent to calculate optimal policy\n",
        "    # =========================================================\n",
        "\n",
        "    def calculate_transition(self, action: Action):\n",
        "        current_location = self.playerState[0]\n",
        "        next_location = None\n",
        "        if self.playerState[0] == 0:\n",
        "            if action == Action.Right:\n",
        "                next_location = current_location + 1\n",
        "            elif action == Action.Down:\n",
        "                next_location = current_location + 3\n",
        "        elif self.playerState[0] == 1:\n",
        "            if action == Action.Right:\n",
        "                next_location = current_location + 1\n",
        "            elif action == Action.Left:\n",
        "                next_location = current_location - 1\n",
        "            elif action == Action.Down:\n",
        "                next_location = current_location + 3\n",
        "        elif self.playerState[0] == 2:\n",
        "            if action == Action.Left:\n",
        "                next_location = current_location - 1\n",
        "            elif action == Action.Down:\n",
        "                next_location = current_location + 3\n",
        "        elif self.playerState[0] == 3:\n",
        "            if action == Action.Right:\n",
        "                next_location = current_location + 1\n",
        "            elif action == Action.Up:\n",
        "                next_location = current_location - 3\n",
        "        elif self.playerState[0] == 4:\n",
        "            if action == Action.Right:\n",
        "                next_location = current_location + 1\n",
        "            elif action == Action.Up:\n",
        "                next_location = current_location - 3\n",
        "            elif action == Action.Left:\n",
        "                next_location = current_location - 1\n",
        "        elif self.playerState[0] == 5:\n",
        "            if action == Action.Up:\n",
        "                next_location = current_location - 3\n",
        "            elif action == Action.Left:\n",
        "                next_location = current_location - 1\n",
        "\n",
        "        if next_location == None:\n",
        "            return current_location\n",
        "        else:\n",
        "            return next_location\n",
        "\n",
        "    def get_step_probability(self, action: Action, new_inventory):\n",
        "        next_location = self.calculate_transition(action)\n",
        "        current_inventory = self.playerState[1]\n",
        "        if next_location == 2: # State 2 contains C\n",
        "            if new_inventory == current_inventory + \"C\":\n",
        "                    return 1\n",
        "            else:\n",
        "                    return 0\n",
        "        elif next_location == 4: # State 4 contains C\n",
        "            if new_inventory == current_inventory + \"L\":\n",
        "                    return 1\n",
        "            else:\n",
        "                    return 0\n",
        "        elif current_inventory == new_inventory:\n",
        "            return 1        \n",
        "        else:\n",
        "            return 0\n",
        "\n",
        "    def get_killed_or_live(self):\n",
        "        # Reward R(s) for every possible state\n",
        "        # Current word must be stored somewhere else\n",
        "        # B, BU, BUR, BURG\n",
        "        if self.playerState[1] == \"CL\" and self.playerState[0] == 5:\n",
        "            return True\n",
        "        if self.playerState[1] != \"C\" or \"CL\":\n",
        "            return False\n",
        "        return True\n"
      ]
    },
    {
      "cell_type": "markdown",
      "metadata": {},
      "source": [
        "## Defining the world\n",
        "After we have defined the environment, we are going to construct the world the actor will be acting in."
      ]
    },
    {
      "cell_type": "code",
      "execution_count": 41,
      "metadata": {},
      "outputs": [],
      "source": [
        "def generate_environment() -> RestaurantEnvironment:\n",
        "    environment = RestaurantEnvironment()\n",
        "    return environment\n",
        "\n",
        "restEnviroment = generate_environment()"
      ]
    },
    {
      "cell_type": "code",
      "execution_count": 42,
      "metadata": {},
      "outputs": [
        {
          "name": "stdout",
          "output_type": "stream",
          "text": [
            " START │ C │ C │L\n",
            "───┼───┼───┼\n",
            " END │ L │ E │\n",
            "───┼───┼───┼\n"
          ]
        }
      ],
      "source": [
        "class Game():\n",
        "    # example of creation of an environment in the default state\n",
        "    mdp = RestaurantEnvironment()\n",
        "    mdp.reset()\n",
        "    mdp.render()\n",
        "    state = \"\"\n",
        "    reward = 0.0\n",
        "    done = False\n",
        "    playerPosition = 0\n",
        "    inventory = \"\"\n",
        "    \n",
        "    # state, done, reward = mdp.step(Action.Right)\n",
        "    # print(state, done, reward)\n",
        "    # state, done, reward = mdp.step(Action.Right)\n",
        "    # print(state, done, reward)\n",
        "    # state, done, reward = mdp.step(Action.Left)\n",
        "    # print(state, done, reward)\n",
        "    # state, done, reward = mdp.step(Action.Down)\n",
        "    # print(state, done, reward)\n",
        "    # state, done, reward = mdp.step(Action.Right)\n",
        "    # print(state, done, reward)\n",
        "    # print(mdp.playerState[0], mdp.playerState[1])\n",
        "    # print('possible (internal) game states:')\n",
        "\n",
        "\n",
        "game = Game()\n"
      ]
    },
    {
      "cell_type": "markdown",
      "metadata": {},
      "source": [
        "## Measuring performance\n",
        "In order to get an accurate idea of the performance of a function we define a set of helper functions which will run number of episodes with the given policy, and print some statistics such as the `mean` of the running time as well as the `standard deviation`."
      ]
    },
    {
      "cell_type": "code",
      "execution_count": 43,
      "metadata": {},
      "outputs": [],
      "source": [
        "from statistics import mean, stdev\n",
        "\n",
        "def run_one_episode(policy, environment, max_iteration_timeout=1000):\n",
        "  environment.reset()\n",
        "\n",
        "  state = environment\n",
        "  total_reward = 0.0\n",
        "  done = False\n",
        "  inventory = \"\"\n",
        "  \n",
        "  iteration = 0\n",
        "  while not done or iteration >= max_iteration_timeout:\n",
        "    next_action = policy(state)\n",
        "    state, done, reward, inventory = environment.step(next_action)\n",
        "    print(state, done, reward, inventory)\n",
        "    total_reward += reward\n",
        "    iteration += 1\n",
        "  return total_reward\n",
        "\n",
        "def measure_performance(policy, environment, nrof_episodes=1):\n",
        "  N = nrof_episodes\n",
        "  print(\"statistics over {} episodes\".format(N))\n",
        "  all_rewards = []\n",
        "  for _ in range(N):\n",
        "    episode_reward = run_one_episode(policy, environment)\n",
        "    all_rewards.append(episode_reward)\n",
        "  print(\"mean: {:6.2f}, sigma: {:6.2f}\".format(mean(all_rewards), stdev(all_rewards)))\n",
        "  print()\n",
        "  for n, episode_reward in enumerate(all_rewards[:5], 1):\n",
        "    print(\"ep: {:2d}, total reward: {:5.2f}\".format(n, episode_reward))\n",
        "  print(\".....\")\n",
        "  for n, episode_reward in enumerate(all_rewards[-5:], len(all_rewards) - 5):\n",
        "    print(\"ep: {:2d}, total reward: {:5.2f}\".format(n, episode_reward))"
      ]
    },
    {
      "cell_type": "markdown",
      "metadata": {},
      "source": [
        "## Random agent\n",
        "Here we test the performance of an agent who's policy is to pick a random action at each state. "
      ]
    },
    {
      "cell_type": "code",
      "execution_count": 44,
      "metadata": {},
      "outputs": [
        {
          "name": "stdout",
          "output_type": "stream",
          "text": [
            "statistics over 1 episodes\n",
            "['START', ' ', 'C', ' ', 'L', 'END'] False -0.1 \n",
            "1\n",
            "['START', ' ', 'C', ' ', 'L', 'END'] False -0.2 \n",
            "2\n",
            "['START', ' ', 'C', ' ', 'L', 'END'] False -0.30000000000000004 \n",
            "3\n",
            "['START', ' ', 'C', ' ', 'L', 'END'] False -0.4 \n",
            "4\n",
            "['START', ' ', 'C', ' ', 'L', 'END'] False -0.5 \n",
            "5\n",
            "['START', ' ', 'C', ' ', 'L', 'END'] False -0.6 \n",
            "6\n",
            "['START', ' ', 'C', ' ', 'L', 'END'] False -0.7 \n",
            "7\n",
            "['START', ' ', 'C', ' ', 'L', 'END'] False -0.7999999999999999 \n",
            "8\n",
            "['START', ' ', 'C', ' ', 'L', 'END'] False -0.8999999999999999 \n",
            "9\n",
            "['START', ' ', 'C', ' ', 'L', 'END'] False -0.9999999999999999 \n",
            "10\n",
            "['START', ' ', 'C', ' ', 'L', 'END'] False -1.0999999999999999 \n",
            "11\n",
            "['START', ' ', 'C', ' ', 'L', 'END'] False -1.2 \n",
            "12\n",
            "['START', ' ', 'C', ' ', 'L', 'END'] False -0.19999999999999996 C\n",
            "13\n",
            "['START', ' ', 'C', ' ', 'L', 'END'] False -0.29999999999999993 C\n",
            "14\n",
            "['START', ' ', 'C', ' ', 'L', 'END'] False -0.3999999999999999 C\n",
            "15\n",
            "['START', ' ', 'C', ' ', 'L', 'END'] False -0.4999999999999999 C\n",
            "16\n",
            "['START', ' ', 'C', ' ', 'L', 'END'] False 0.5000000000000001 CL\n",
            "17\n",
            "['START', ' ', 'C', ' ', 'L', 'END'] False 0.40000000000000013 CL\n",
            "18\n",
            "['START', ' ', 'C', ' ', 'L', 'END'] False 0.30000000000000016 CL\n",
            "19\n",
            "['START', ' ', 'C', ' ', 'L', 'END'] True 0.20000000000000015 CL\n",
            "20\n"
          ]
        },
        {
          "ename": "StatisticsError",
          "evalue": "variance requires at least two data points",
          "output_type": "error",
          "traceback": [
            "\u001b[1;31m---------------------------------------------------------------------------\u001b[0m",
            "\u001b[1;31mStatisticsError\u001b[0m                           Traceback (most recent call last)",
            "\u001b[1;32m~\\AppData\\Local\\Temp/ipykernel_15260/2128795179.py\u001b[0m in \u001b[0;36m<module>\u001b[1;34m\u001b[0m\n\u001b[0;32m      3\u001b[0m   \u001b[1;32mreturn\u001b[0m \u001b[0maction\u001b[0m\u001b[1;33m\u001b[0m\u001b[1;33m\u001b[0m\u001b[0m\n\u001b[0;32m      4\u001b[0m \u001b[1;33m\u001b[0m\u001b[0m\n\u001b[1;32m----> 5\u001b[1;33m \u001b[0mmeasure_performance\u001b[0m\u001b[1;33m(\u001b[0m\u001b[0mpolicy_random\u001b[0m\u001b[1;33m,\u001b[0m \u001b[0mrestEnviroment\u001b[0m\u001b[1;33m)\u001b[0m\u001b[1;33m\u001b[0m\u001b[1;33m\u001b[0m\u001b[0m\n\u001b[0m",
            "\u001b[1;32m~\\AppData\\Local\\Temp/ipykernel_15260/3763080761.py\u001b[0m in \u001b[0;36mmeasure_performance\u001b[1;34m(policy, environment, nrof_episodes)\u001b[0m\n\u001b[0;32m     26\u001b[0m     \u001b[0mepisode_reward\u001b[0m \u001b[1;33m=\u001b[0m \u001b[0mrun_one_episode\u001b[0m\u001b[1;33m(\u001b[0m\u001b[0mpolicy\u001b[0m\u001b[1;33m,\u001b[0m \u001b[0menvironment\u001b[0m\u001b[1;33m)\u001b[0m\u001b[1;33m\u001b[0m\u001b[1;33m\u001b[0m\u001b[0m\n\u001b[0;32m     27\u001b[0m     \u001b[0mall_rewards\u001b[0m\u001b[1;33m.\u001b[0m\u001b[0mappend\u001b[0m\u001b[1;33m(\u001b[0m\u001b[0mepisode_reward\u001b[0m\u001b[1;33m)\u001b[0m\u001b[1;33m\u001b[0m\u001b[1;33m\u001b[0m\u001b[0m\n\u001b[1;32m---> 28\u001b[1;33m   \u001b[0mprint\u001b[0m\u001b[1;33m(\u001b[0m\u001b[1;34m\"mean: {:6.2f}, sigma: {:6.2f}\"\u001b[0m\u001b[1;33m.\u001b[0m\u001b[0mformat\u001b[0m\u001b[1;33m(\u001b[0m\u001b[0mmean\u001b[0m\u001b[1;33m(\u001b[0m\u001b[0mall_rewards\u001b[0m\u001b[1;33m)\u001b[0m\u001b[1;33m,\u001b[0m \u001b[0mstdev\u001b[0m\u001b[1;33m(\u001b[0m\u001b[0mall_rewards\u001b[0m\u001b[1;33m)\u001b[0m\u001b[1;33m)\u001b[0m\u001b[1;33m)\u001b[0m\u001b[1;33m\u001b[0m\u001b[1;33m\u001b[0m\u001b[0m\n\u001b[0m\u001b[0;32m     29\u001b[0m   \u001b[0mprint\u001b[0m\u001b[1;33m(\u001b[0m\u001b[1;33m)\u001b[0m\u001b[1;33m\u001b[0m\u001b[1;33m\u001b[0m\u001b[0m\n\u001b[0;32m     30\u001b[0m   \u001b[1;32mfor\u001b[0m \u001b[0mn\u001b[0m\u001b[1;33m,\u001b[0m \u001b[0mepisode_reward\u001b[0m \u001b[1;32min\u001b[0m \u001b[0menumerate\u001b[0m\u001b[1;33m(\u001b[0m\u001b[0mall_rewards\u001b[0m\u001b[1;33m[\u001b[0m\u001b[1;33m:\u001b[0m\u001b[1;36m5\u001b[0m\u001b[1;33m]\u001b[0m\u001b[1;33m,\u001b[0m \u001b[1;36m1\u001b[0m\u001b[1;33m)\u001b[0m\u001b[1;33m:\u001b[0m\u001b[1;33m\u001b[0m\u001b[1;33m\u001b[0m\u001b[0m\n",
            "\u001b[1;32mc:\\Users\\ivano\\anaconda3\\lib\\statistics.py\u001b[0m in \u001b[0;36mstdev\u001b[1;34m(data, xbar)\u001b[0m\n\u001b[0;32m    795\u001b[0m \u001b[1;33m\u001b[0m\u001b[0m\n\u001b[0;32m    796\u001b[0m     \"\"\"\n\u001b[1;32m--> 797\u001b[1;33m     \u001b[0mvar\u001b[0m \u001b[1;33m=\u001b[0m \u001b[0mvariance\u001b[0m\u001b[1;33m(\u001b[0m\u001b[0mdata\u001b[0m\u001b[1;33m,\u001b[0m \u001b[0mxbar\u001b[0m\u001b[1;33m)\u001b[0m\u001b[1;33m\u001b[0m\u001b[1;33m\u001b[0m\u001b[0m\n\u001b[0m\u001b[0;32m    798\u001b[0m     \u001b[1;32mtry\u001b[0m\u001b[1;33m:\u001b[0m\u001b[1;33m\u001b[0m\u001b[1;33m\u001b[0m\u001b[0m\n\u001b[0;32m    799\u001b[0m         \u001b[1;32mreturn\u001b[0m \u001b[0mvar\u001b[0m\u001b[1;33m.\u001b[0m\u001b[0msqrt\u001b[0m\u001b[1;33m(\u001b[0m\u001b[1;33m)\u001b[0m\u001b[1;33m\u001b[0m\u001b[1;33m\u001b[0m\u001b[0m\n",
            "\u001b[1;32mc:\\Users\\ivano\\anaconda3\\lib\\statistics.py\u001b[0m in \u001b[0;36mvariance\u001b[1;34m(data, xbar)\u001b[0m\n\u001b[0;32m    737\u001b[0m     \u001b[0mn\u001b[0m \u001b[1;33m=\u001b[0m \u001b[0mlen\u001b[0m\u001b[1;33m(\u001b[0m\u001b[0mdata\u001b[0m\u001b[1;33m)\u001b[0m\u001b[1;33m\u001b[0m\u001b[1;33m\u001b[0m\u001b[0m\n\u001b[0;32m    738\u001b[0m     \u001b[1;32mif\u001b[0m \u001b[0mn\u001b[0m \u001b[1;33m<\u001b[0m \u001b[1;36m2\u001b[0m\u001b[1;33m:\u001b[0m\u001b[1;33m\u001b[0m\u001b[1;33m\u001b[0m\u001b[0m\n\u001b[1;32m--> 739\u001b[1;33m         \u001b[1;32mraise\u001b[0m \u001b[0mStatisticsError\u001b[0m\u001b[1;33m(\u001b[0m\u001b[1;34m'variance requires at least two data points'\u001b[0m\u001b[1;33m)\u001b[0m\u001b[1;33m\u001b[0m\u001b[1;33m\u001b[0m\u001b[0m\n\u001b[0m\u001b[0;32m    740\u001b[0m     \u001b[0mT\u001b[0m\u001b[1;33m,\u001b[0m \u001b[0mss\u001b[0m \u001b[1;33m=\u001b[0m \u001b[0m_ss\u001b[0m\u001b[1;33m(\u001b[0m\u001b[0mdata\u001b[0m\u001b[1;33m,\u001b[0m \u001b[0mxbar\u001b[0m\u001b[1;33m)\u001b[0m\u001b[1;33m\u001b[0m\u001b[1;33m\u001b[0m\u001b[0m\n\u001b[0;32m    741\u001b[0m     \u001b[1;32mreturn\u001b[0m \u001b[0m_convert\u001b[0m\u001b[1;33m(\u001b[0m\u001b[0mss\u001b[0m \u001b[1;33m/\u001b[0m \u001b[1;33m(\u001b[0m\u001b[0mn\u001b[0m \u001b[1;33m-\u001b[0m \u001b[1;36m1\u001b[0m\u001b[1;33m)\u001b[0m\u001b[1;33m,\u001b[0m \u001b[0mT\u001b[0m\u001b[1;33m)\u001b[0m\u001b[1;33m\u001b[0m\u001b[1;33m\u001b[0m\u001b[0m\n",
            "\u001b[1;31mStatisticsError\u001b[0m: variance requires at least two data points"
          ]
        }
      ],
      "source": [
        "def policy_random(state: RestaurantEnvironment) -> Action:\n",
        "  action = random.choice([a for a in Action])\n",
        "  return action\n",
        "\n",
        "measure_performance(policy_random, restEnviroment)"
      ]
    }
  ],
  "metadata": {
    "colab": {
      "name": "BurgerRestauraunt.ipynb",
      "provenance": []
    },
    "kernelspec": {
      "display_name": "Python 3.10.4 64-bit",
      "language": "python",
      "name": "python3"
    },
    "language_info": {
      "codemirror_mode": {
        "name": "ipython",
        "version": 3
      },
      "file_extension": ".py",
      "mimetype": "text/x-python",
      "name": "python",
      "nbconvert_exporter": "python",
      "pygments_lexer": "ipython3",
      "version": "3.10.4"
    },
    "vscode": {
      "interpreter": {
        "hash": "8c3d4d9970fc5c09c50d9318a9c7fbf4d0159e4b28833276f5678ee22bded273"
      }
    }
  },
  "nbformat": 4,
  "nbformat_minor": 0
}
